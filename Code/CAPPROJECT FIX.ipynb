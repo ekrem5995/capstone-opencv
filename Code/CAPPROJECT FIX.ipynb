{
 "cells": [
  {
   "cell_type": "code",
   "execution_count": 1,
   "metadata": {},
   "outputs": [],
   "source": [
    "import cv2 \n",
    "import numpy as np\n",
    "\n",
    "from sklearn.metrics import pairwise\n"
   ]
  },
  {
   "cell_type": "code",
   "execution_count": 2,
   "metadata": {},
   "outputs": [],
   "source": [
    "background = None\n",
    "\n",
    "accumulated_weight = 0.5  #acculmulated ağılık\n",
    "\n",
    "#roi reigion of interest\n",
    "\n",
    "\n",
    "roi_top = 20\n",
    "roi_bottom = 300\n",
    "roi_right = 300\n",
    "roi_left = 600 #kare köşeleri roi\n",
    "\n"
   ]
  },
  {
   "cell_type": "code",
   "execution_count": 3,
   "metadata": {},
   "outputs": [],
   "source": [
    "#average background valueyu bulan function\n",
    "def calc_accum_avg(frame,accumulated_weight):\n",
    "    \n",
    "    global background #None olarak başlıyor\n",
    "    \n",
    "    if background is None: #gelen frame buraya passlıyacak\n",
    "        background = frame.copy().astype('float')\n",
    "        return None\n",
    "    \n",
    "    #None değilse değeri varsa yapılacak else\n",
    "    cv2.accumulateWeighted(frame,background,accumulated_weight) #çalışan ortalama frame değerine biriktiriyor\n",
    "    \n",
    "    #bu ağırlığı returnlemiyoruz global arka plana etki ediyor"
   ]
  },
  {
   "cell_type": "code",
   "execution_count": 4,
   "metadata": {},
   "outputs": [],
   "source": [
    "#Eli segmentleme \n",
    "\n",
    "#elin köşelerini bulup segmentliyeceğiz \n",
    "\n",
    "def segment(frame,threshold=25):\n",
    "    \n",
    "    diff = cv2.absdiff(background.astype('uint8'),frame) #frame ile arkaplanın farkını hesaplayan\n",
    "                       \n",
    "    ret,thresholded = cv2.threshold(diff,threshold,255,cv2.THRESH_BINARY) #THRESHOLD = MİN \n",
    "                       \n",
    "    contours, hierarchy = cv2.findContours(thresholded.copy(), cv2.RETR_EXTERNAL, cv2.CHAIN_APPROX_SIMPLE)#konturları bulma\n",
    "     \n",
    "    if len(contours) == 0:\n",
    "            return None     #kontor uzunluğu kontrolü \n",
    "                       \n",
    "    else:  \n",
    "                       #en büyük kontor el olması gerektiği için öyle varsayarak else\n",
    "     hand_segment = max(contours,key=cv2.contourArea)              \n",
    "     return (thresholded,hand_segment) "
   ]
  },
  {
   "cell_type": "code",
   "execution_count": 5,
   "metadata": {},
   "outputs": [],
   "source": [
    "#Convex Hull kullanarak ellerin parmaklarını sayma"
   ]
  },
  {
   "cell_type": "code",
   "execution_count": 6,
   "metadata": {},
   "outputs": [],
   "source": [
    "#VER 4 ÜSTÜ FİX CHAT GPT  VERSİYON 3 ÜSTÜ İÇİN ENTEGRE KOD \n",
    "\n",
    "def count_fingers(thresholded, hand_segment):\n",
    "    # hand segment numpy array\n",
    "    hand_segment = np.array(hand_segment)\n",
    "    if len(hand_segment) == 0:\n",
    "        return 0\n",
    "    \n",
    "    # Compute the convex hull of the hand segment\n",
    "    try:\n",
    "        hull = cv2.convexHull(hand_segment, returnPoints=False)\n",
    "        if len(hull) == 0:\n",
    "            return 0\n",
    "        \n",
    "        # Compute convexity defects\n",
    "        defects = cv2.convexityDefects(hand_segment, hull)\n",
    "        if defects is None:\n",
    "            return 0\n",
    "    except cv2.error as e:\n",
    "        print(f\"OpenCV error: {e}\")\n",
    "        return 0\n",
    "\n",
    "    # Initialize the number of fingers\n",
    "    num_fingers = 0\n",
    "\n",
    "    # Process convexity defects\n",
    "    for i in range(defects.shape[0]):\n",
    "        s, e, f, d = defects[i, 0]\n",
    "        if d > 10000:  \n",
    "            num_fingers += 1\n",
    "    \n",
    "    return num_fingers\n"
   ]
  },
  {
   "cell_type": "code",
   "execution_count": 7,
   "metadata": {},
   "outputs": [
    {
     "name": "stdout",
     "output_type": "stream",
     "text": [
      "OpenCV error: OpenCV(4.10.0) D:\\a\\opencv-python\\opencv-python\\opencv\\modules\\imgproc\\src\\convhull.cpp:360: error: (-5:Bad argument) The convex hull indices are not monotonous, which can be in the case when the input contour contains self-intersections in function 'cv::convexityDefects'\n",
      "\n",
      "OpenCV error: OpenCV(4.10.0) D:\\a\\opencv-python\\opencv-python\\opencv\\modules\\imgproc\\src\\convhull.cpp:360: error: (-5:Bad argument) The convex hull indices are not monotonous, which can be in the case when the input contour contains self-intersections in function 'cv::convexityDefects'\n",
      "\n",
      "OpenCV error: OpenCV(4.10.0) D:\\a\\opencv-python\\opencv-python\\opencv\\modules\\imgproc\\src\\convhull.cpp:360: error: (-5:Bad argument) The convex hull indices are not monotonous, which can be in the case when the input contour contains self-intersections in function 'cv::convexityDefects'\n",
      "\n",
      "OpenCV error: OpenCV(4.10.0) D:\\a\\opencv-python\\opencv-python\\opencv\\modules\\imgproc\\src\\convhull.cpp:360: error: (-5:Bad argument) The convex hull indices are not monotonous, which can be in the case when the input contour contains self-intersections in function 'cv::convexityDefects'\n",
      "\n",
      "OpenCV error: OpenCV(4.10.0) D:\\a\\opencv-python\\opencv-python\\opencv\\modules\\imgproc\\src\\convhull.cpp:360: error: (-5:Bad argument) The convex hull indices are not monotonous, which can be in the case when the input contour contains self-intersections in function 'cv::convexityDefects'\n",
      "\n",
      "OpenCV error: OpenCV(4.10.0) D:\\a\\opencv-python\\opencv-python\\opencv\\modules\\imgproc\\src\\convhull.cpp:360: error: (-5:Bad argument) The convex hull indices are not monotonous, which can be in the case when the input contour contains self-intersections in function 'cv::convexityDefects'\n",
      "\n",
      "OpenCV error: OpenCV(4.10.0) D:\\a\\opencv-python\\opencv-python\\opencv\\modules\\imgproc\\src\\convhull.cpp:360: error: (-5:Bad argument) The convex hull indices are not monotonous, which can be in the case when the input contour contains self-intersections in function 'cv::convexityDefects'\n",
      "\n",
      "OpenCV error: OpenCV(4.10.0) D:\\a\\opencv-python\\opencv-python\\opencv\\modules\\imgproc\\src\\convhull.cpp:360: error: (-5:Bad argument) The convex hull indices are not monotonous, which can be in the case when the input contour contains self-intersections in function 'cv::convexityDefects'\n",
      "\n",
      "OpenCV error: OpenCV(4.10.0) D:\\a\\opencv-python\\opencv-python\\opencv\\modules\\imgproc\\src\\convhull.cpp:360: error: (-5:Bad argument) The convex hull indices are not monotonous, which can be in the case when the input contour contains self-intersections in function 'cv::convexityDefects'\n",
      "\n",
      "OpenCV error: OpenCV(4.10.0) D:\\a\\opencv-python\\opencv-python\\opencv\\modules\\imgproc\\src\\convhull.cpp:360: error: (-5:Bad argument) The convex hull indices are not monotonous, which can be in the case when the input contour contains self-intersections in function 'cv::convexityDefects'\n",
      "\n",
      "OpenCV error: OpenCV(4.10.0) D:\\a\\opencv-python\\opencv-python\\opencv\\modules\\imgproc\\src\\convhull.cpp:360: error: (-5:Bad argument) The convex hull indices are not monotonous, which can be in the case when the input contour contains self-intersections in function 'cv::convexityDefects'\n",
      "\n",
      "OpenCV error: OpenCV(4.10.0) D:\\a\\opencv-python\\opencv-python\\opencv\\modules\\imgproc\\src\\convhull.cpp:360: error: (-5:Bad argument) The convex hull indices are not monotonous, which can be in the case when the input contour contains self-intersections in function 'cv::convexityDefects'\n",
      "\n"
     ]
    }
   ],
   "source": [
    "#Kamerayı açma\n",
    "\n",
    "cam = cv2.VideoCapture(0)\n",
    "\n",
    "num_frames = 0\n",
    "\n",
    "while True:\n",
    "    \n",
    "    \n",
    "    ret,frame = cam.read()\n",
    "    \n",
    "    frame_copy = frame.copy()\n",
    "    \n",
    "    roi = frame[roi_top:roi_bottom,roi_right:roi_left]\n",
    "    \n",
    "    gray = cv2.cvtColor(roi,cv2.COLOR_BGR2GRAY)\n",
    "    \n",
    "    gray = cv2.GaussianBlur(gray,(7,7),0)\n",
    "    \n",
    "    if num_frames < 60:\n",
    "        calc_accum_avg(gray,accumulated_weight)\n",
    "        \n",
    "        if num_frames <=59:\n",
    "            cv2.putText(frame_copy,'WAIT GETTING BACKGROUND',(200,300),cv2.FONT_HERSHEY_COMPLEX,1,(0,0,255),2)\n",
    "            cv2.imshow('Finger Count',frame_copy)\n",
    "            \n",
    "    else:\n",
    "        \n",
    "        hand = segment(gray)\n",
    "        \n",
    "        if hand is not None:\n",
    "            \n",
    "            thresholded, hand_segment = hand\n",
    "            #gerçek elin etrafına konturlar çiziyor canlı video görüntüsünde\n",
    "            cv2.drawContours(frame_copy,[hand_segment+(roi_right,roi_top)],-1,(255,0,0),5)\n",
    "            #parmakları sayma\n",
    "            fingers = count_fingers(thresholded, hand_segment)\n",
    "            #sayım sonucunu displayleme\n",
    "            cv2.putText(frame_copy,str(fingers),(70,50),cv2.FONT_HERSHEY_SIMPLEX,1,(0,0,255),2)\n",
    "            \n",
    "            cv2.imshow('Thresholded',thresholded)\n",
    "    cv2.rectangle(frame_copy,(roi_left,roi_top),(roi_right,roi_bottom),(0,0,255),5)#dışarıda kare çizicez roi ye  \n",
    "    num_frames += 1\n",
    "    \n",
    "    cv2.imshow('Finger Count',frame_copy)\n",
    "    \n",
    "    k = cv2.waitKey(1) & 0xFF\n",
    "    \n",
    "    if k == 27:\n",
    "        break\n",
    "cam.release()\n",
    "cv2.destroyAllWindows()\n"
   ]
  },
  {
   "cell_type": "code",
   "execution_count": 8,
   "metadata": {},
   "outputs": [
    {
     "name": "stdout",
     "output_type": "stream",
     "text": [
      "4.10.0\n"
     ]
    }
   ],
   "source": [
    "import cv2\n",
    "print(cv2.__version__)\n"
   ]
  },
  {
   "cell_type": "code",
   "execution_count": null,
   "metadata": {},
   "outputs": [],
   "source": []
  }
 ],
 "metadata": {
  "kernelspec": {
   "display_name": "Python 3 (ipykernel)",
   "language": "python",
   "name": "python3"
  },
  "language_info": {
   "codemirror_mode": {
    "name": "ipython",
    "version": 3
   },
   "file_extension": ".py",
   "mimetype": "text/x-python",
   "name": "python",
   "nbconvert_exporter": "python",
   "pygments_lexer": "ipython3",
   "version": "3.12.4"
  }
 },
 "nbformat": 4,
 "nbformat_minor": 4
}

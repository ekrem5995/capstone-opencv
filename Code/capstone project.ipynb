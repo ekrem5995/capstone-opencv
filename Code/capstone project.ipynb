{
 "cells": [
  {
   "cell_type": "code",
   "execution_count": 1,
   "metadata": {},
   "outputs": [],
   "source": [
    "#mnist data overview\n",
    "#600000 fotoğraflı kütüphane 4 dimensions  28 by 28 pixels\n",
    "#(60000,28,28,1) (samples,x,y,channels) gray olduğundan sadece tek channel var\n",
    "#bu demek oluyor orginal labeller bir sayı listesi olarak verilioyr\n",
    "#[5,0,4,....,5,6,8] gibi\n",
    "#bunları one hot encodinge dönüştüreceğiz(keras ile kolay bi şkeilde)\n",
    "#one hot encoding bir listede hangi resim o resmi temsil ediyorsa ona 1 yazıldığı bir modeş\n",
    "#label is represented based of index position in the label array\n",
    "#the corresponding label will be a 1 at the index location and zero everwhere else\n",
    "#example digit 4 would have this label array\n",
    "#[0,0,0,0,1,0,0,0,0,0]  index locationu 0,1,2,3,4 olduğundan 5 inci bölgede 1 var"
   ]
  },
  {
   "cell_type": "code",
   "execution_count": 2,
   "metadata": {},
   "outputs": [],
   "source": [
    "#CONVOLUTİONAL NEURAL NETWORKS"
   ]
  },
  {
   "cell_type": "code",
   "execution_count": null,
   "metadata": {},
   "outputs": [],
   "source": [
    "#each unit connected to smaller unit\n",
    "#3by 3 filter - multiply by filter weights - sum the result- output (convolution)\n",
    "#after convolution you do subsampling pooling \n",
    "#pooling layers will subsample the input image , which reduces memory use as well as\n",
    "#reducing the number of parameters\n",
    "#2 by 2 kernel take and evaluate the max value\n",
    "# sonraki layera geçen değer bu max değer olucak misal 4 kare içinde en büyük değer 4 <\n",
    "#o zaman o 4 değeri diğer layera inerken gelicek ,\n",
    "\n",
    "\n",
    "#DROPOUT TEKNİĞİ\n",
    "\n",
    "#Regularize etme süreci overfittingi engellemek için\n",
    "#training esnasında unitler rastlege droplanıyor bağlantılarıyla beraber\n",
    "#co adaptasyonu engelliyor buda\n",
    "#"
   ]
  }
 ],
 "metadata": {
  "kernelspec": {
   "display_name": "Python 3",
   "language": "python",
   "name": "python3"
  },
  "language_info": {
   "codemirror_mode": {
    "name": "ipython",
    "version": 3
   },
   "file_extension": ".py",
   "mimetype": "text/x-python",
   "name": "python",
   "nbconvert_exporter": "python",
   "pygments_lexer": "ipython3",
   "version": "3.6.6"
  }
 },
 "nbformat": 4,
 "nbformat_minor": 2
}
